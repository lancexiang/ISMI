{
 "cells": [
  {
   "cell_type": "markdown",
   "metadata": {},
   "source": [
    "# Image classification with convolutional neural networks"
   ]
  },
  {
   "cell_type": "markdown",
   "metadata": {},
   "source": [
    "<img src=\"./figures/cifar_10.jpg\" alt=\"CIFAR10\" align=\"right\" width=\"450\">\n",
    "In this assignment, we are going to build, train and validate **convolutional neural networks**.\n",
    "For this purpose, we will use data from the publicly available CIFAR10 dataset.\n",
    "CIFAR10 is a dataset commonly used in the community of computer vision and machine learning to benchmark new algorithms and network architectures.\n",
    "\n",
    "CIFAR10 is a dataset that contains (small) RGB images of 32x32 px of ten different classes:\n",
    "* airplane\t\t\t\t\t\t\t\t\t\t\n",
    "* automobile\t\t\t\t\t\t\t\t\t\t\n",
    "* bird\t\t\t\t\t\t\t\t\t\t\n",
    "* cat\t\t\t\t\t\t\t\t\t\t\n",
    "* deer\t\t\t\t\t\t\t\t\t\t\n",
    "* dog\t\t\t\t\t\t\t\t\t\t\n",
    "* frog\t\t\t\t\t\t\t\t\t\t\n",
    "* horse\t\t\t\t\t\t\t\t\t\t\n",
    "* ship\t\t\t\t\t\t\t\t\t\t\n",
    "* truck\n",
    "\n",
    "More details can be found at this link: https://www.cs.toronto.edu/~kriz/cifar.html\n",
    "\n",
    "We recently searched for the state-of-the-art result on this dataset, and apparently an error of **2.72%** on the test set (accuracy = 97.28%) has been recently reached. The approach is described in this paper: https://openreview.net/pdf?id=HkO-PCmYl\n",
    "\n",
    "In this assignment, you will probably reach an accuracy between 60% and 70%, which is perfectly fine!"
   ]
  },
  {
   "cell_type": "markdown",
   "metadata": {},
   "source": [
    "# Data\n",
    "We will train our ConvNet with images from CIFAR10, a dataset of 60,000 colour images of 32x32 pixels in 10 classes.\n",
    "The dataset can be downloaded from this link (choose the Python version): https://www.cs.toronto.edu/~kriz/cifar.html\n",
    "\n",
    "The downloaded training samples come split into 5 batches of 10,000 samples each, which is useful to do cross-validation for example. In this assignment, you will have to decide how to best split the dataset into training and validation sets. A separate test set is provided in CIFAR10, whcih is the same set used by other researchers to benchmark their methods."
   ]
  },
  {
   "cell_type": "markdown",
   "metadata": {},
   "source": [
    "# Tasks\n",
    "We define 10 tasks in this assignment.\n",
    "The first 8 tasks are mandatory, the last 2 are optional.\n",
    "Although 10 tasks sound like a lot of work, you will see that (1) they are highly repetitive (meaning, you will do a lot of copy-paste across cells in the notebook), (2) you can reuse most of the things you did last week.\n",
    "Like we mentioned in the lecture this week, given the experience you have gained by defining datasets and training neural networks, training convolutional neural networks is just a natural step towards using a different architectures (and some additional tricks and tools).\n",
    "\n",
    "The task that we propose are the following:\n",
    "\n",
    "### Task 1: build convolutional networks\n",
    "In this task, you will first define your training and validation set, then you will build the architecture of convolutional networks. We will propose an architecture that can be trained in a reasonable time using a CPU and the virtual machine that we provided (worst case scenario). In this setting, one epoch takes between 1 and 2 minutes, and we have observed that after 20 epochs we can already observe some interesting results. Using a GPU will of course speed up the experiment.\n",
    "\n",
    "### Task 2: train convolutional networks\n",
    "In this task, you will train your first model using CIFAR10, apply the trained model to the test set, and submit the results to challenger. In order to define training functions and parameteres, you can reuse a lot of code developed last week.\n",
    "\n",
    "### Task 3: add dropout layer(s)\n",
    "In this task, you will modify the architecture of your network by adding dropout, which is implemented in Lasagne in the form of a layer. After that, you will repeat the training procedure and compare the results with the ones of the *plain* network.\n",
    "\n",
    "### Task 4: add batch normalization\n",
    "In this task, you will do something similar to task 3, but now adding batch normalization.\n",
    "You will repeat the exepriment and compare the performance with previous architectures.\n",
    "\n",
    "### Task 5: try different initialization strategies\n",
    "We have seen that at least a couple of initilization strategies are known in the literature for (convolutional) neural networks.\n",
    "Several strategies are implemented in the Lasagne library.\n",
    "Try some of them and report the results.\n",
    "\n",
    "### Task 6: try different nonlinearities\n",
    "The same for nonlinearities, we have seen that ReLU is some kind of default choice for ConvNets, but other strategies exists. Do experiments, report the results and compare with previous approaches.\n",
    "\n",
    "### Task 7: add L2 regularization\n",
    "Modify the loss function to use L2 regularization.\n",
    "Again, run experiments and report results.\n",
    "\n",
    "### Task 8: add data augmentation\n",
    "Think of possible ways you can augment the (training) data.\n",
    "You can build a new (bigger) training set, or implement some kind of data augmentation *on-the-fly*, where some patches in the mini-batch are randomly selected and augmented with a (random) operation. Think of transofmrations that make sense in the context of classification of natural images.\n",
    "\n",
    "### Task 9 (optional): try different architecture\n",
    "You can try to improve the performance by modifying the architecture, using more layers, or wider layers (same number of layers but more filters, which means more parameters). Use all the tools you have investigated so far, the optimal combination of the options you have tried in previous tasks. The goal is to get high accuracy on the validation (and therefore on the test) set!\n",
    "This task is optional because depending on the depth of the network, a GPU may be necessary.\n",
    "\n",
    "### Task 10 (optional): monitor the training procedure\n",
    "Finally, an optional task is to implement some tools to monitor the training procedure.\n",
    "Examples are the analysis of statistics of activations, or visualizing the filters learned.\n",
    "If done during training, visualizing filter will also nicely show how the network refines random parameters to come up with meaningful filters (especially in the first layer).\n",
    "\n",
    "\n",
    "As done in previous assignments, in this notebook we provide some parts of code implemented.\n",
    "Some other parts are not implemented, but we define the variables that will be used in functions, to help you in the development of the assignment.\n",
    "Things that have been declared but not implemented are assigned a **None** value.\n",
    "That is the part that you have to implement.\n",
    "This means that every time you see **None**, it means that something is missing and you have to implement it."
   ]
  },
  {
   "cell_type": "markdown",
   "metadata": {},
   "source": [
    "## Let's get started"
   ]
  },
  {
   "cell_type": "code",
   "execution_count": 2,
   "metadata": {
    "collapsed": false
   },
   "outputs": [
    {
     "name": "stderr",
     "output_type": "stream",
     "text": [
      "DEBUG: nvcc STDOUT nvcc warning : The 'compute_20', 'sm_20', and 'sm_21' architectures are deprecated, and may be removed in a future release (Use -Wno-deprecated-gpu-targets to suppress warning).\r\n",
      "mod.cu\r\n",
      "   Bibliothek \"C:/Users/Simon/AppData/Local/Theano/compiledir_Windows-10-10.0.14393-Intel64_Family_6_Model_58_Stepping_9_GenuineIntel-2.7.13-64/tmpfhkmjg/265abc51f7c376c224983485238ff1a5.lib\" und Objekt \"C:/Users/Simon/AppData/Local/Theano/compiledir_Windows-10-10.0.14393-Intel64_Family_6_Model_58_Stepping_9_GenuineIntel-2.7.13-64/tmpfhkmjg/265abc51f7c376c224983485238ff1a5.exp\" werden erstellt.\r\n",
      "\n",
      "Using gpu device 0: GeForce GTX 1060 6GB (CNMeM is enabled with initial size: 80.0% of memory, cuDNN 5110)\n",
      "C:\\Anaconda2\\lib\\site-packages\\theano\\sandbox\\cuda\\__init__.py:600: UserWarning: Your cuDNN version is more recent than the one Theano officially supports. If you see any problems, try updating Theano or downgrading cuDNN to version 5.\n",
      "  warnings.warn(warn)\n"
     ]
    }
   ],
   "source": [
    "# import libraries\n",
    "import numpy as np\n",
    "import theano\n",
    "import theano.tensor as T\n",
    "import lasagne\n",
    "import lasagne.layers as L\n",
    "import os\n",
    "import pickle\n",
    "import matplotlib.pyplot as plt\n",
    "import matplotlib\n",
    "%matplotlib inline\n",
    "matplotlib.rcParams['figure.figsize'] = (20, 12)\n",
    "from tqdm import tnrange, tqdm_notebook\n",
    "from IPython import display\n",
    "import time\n",
    "import challenger"
   ]
  },
  {
   "cell_type": "markdown",
   "metadata": {},
   "source": [
    "## Get to know your data\n",
    "Load data and define datasets.\n",
    "CIFAR10 contains 5 batches that can be used for training/validation, and one batch that consists of the test set.\n",
    "In order to train your network, you will have to define a training set and a validation set. Do not use the test set as training data, and do not use any knowledge on the labels of the test set (being a publicly available dataset, we cannot avoid expose the labels of the test set).\n",
    "\n",
    "We provide an example how to load a data batch.\n",
    "Think of the best way to split data into training and validation set.\n",
    "Note that the format that layers in convolutional networks like (at least in the Theano/Lasagne libraries that we are using), is as follows:\n",
    "\n",
    "    (n_samples, n_channels, rows, cols)\n",
    "\n",
    "This means that each training (but also validation and test) sample needs to have four dimensions. This kind of structure (multi-dimensional array), is called **tensor**. In practice, this format is also convenient because the first index of the tensor refers to the sample itself, so we can use:\n",
    "\n",
    "    tensor[i]\n",
    "    \n",
    "to extract the i-th example.\n",
    "\n",
    "During training, several samples will be used to update the parameters of a network. In the case of CIFAR10, if we use M samples per mini-batch, the shape of the mini-batch data is:\n",
    "\n",
    "    (M, 3, 32, 32)\n",
    "\n",
    "In the training, validation and test datasets, make sure data is organized in this way!"
   ]
  },
  {
   "cell_type": "code",
   "execution_count": 3,
   "metadata": {
    "collapsed": false
   },
   "outputs": [
    {
     "name": "stdout",
     "output_type": "stream",
     "text": [
      "(10000L, 3072L)\n",
      "10000\n",
      "(10000L, 3L, 32L, 32L)\n"
     ]
    }
   ],
   "source": [
    "dataset_dir = 'C:\\\\ISMI\\\\cifar-10-batches-py\\\\'\n",
    "\n",
    "# load one batch, reshape data\n",
    "f = open(os.path.join(dataset_dir, 'data_batch_1'), 'rb') # example for batch_1\n",
    "cifar_batch = pickle.load(f)\n",
    "f.close()\n",
    "\n",
    "# print original data shape (matrix format)\n",
    "print cifar_batch['data'].shape\n",
    "print len(cifar_batch['labels'])\n",
    "\n",
    "# shape after re-arranging data shape (tensor format)\n",
    "reshaped_cifar_batch = (cifar_batch['data'].reshape(-1, 3, 32, 32) / 255.).astype(np.float32)\n",
    "print reshaped_cifar_batch.shape"
   ]
  },
  {
   "cell_type": "markdown",
   "metadata": {},
   "source": [
    "Before you define your datasets, it is useful to check the distribution of labels across batches of CIFAR10, in case some batches have skewed distributions of labels.\n",
    "In order to do that, you can use visualize the histogram of labels using the function *hist()* of the matplotlib library:\n",
    "\n",
    "    plt.hist()"
   ]
  },
  {
   "cell_type": "code",
   "execution_count": 4,
   "metadata": {
    "collapsed": false
   },
   "outputs": [
    {
     "data": {
      "text/plain": [
       "<matplotlib.text.Text at 0x63aa4390>"
      ]
     },
     "execution_count": 4,
     "metadata": {},
     "output_type": "execute_result"
    },
    {
     "data": {
      "image/png": "[encoded data removed]",
      "text/plain": [
       "<matplotlib.figure.Figure at 0x634253c8>"
      ]
     },
     "metadata": {},
     "output_type": "display_data"
    }
   ],
   "source": [
    "batch_1 = pickle.load(open(os.path.join(dataset_dir, 'data_batch_1'), 'rb'))\n",
    "batch_2 = pickle.load(open(os.path.join(dataset_dir, 'data_batch_2'), 'rb'))\n",
    "batch_3 = pickle.load(open(os.path.join(dataset_dir, 'data_batch_3'), 'rb'))\n",
    "batch_4 = pickle.load(open(os.path.join(dataset_dir, 'data_batch_4'), 'rb'))\n",
    "batch_5 = pickle.load(open(os.path.join(dataset_dir, 'data_batch_5'), 'rb'))\n",
    "plt.subplot(1,5,1); plt.hist(batch_1['labels']); plt.title('batch_1')\n",
    "plt.subplot(1,5,2); plt.hist(batch_2['labels']); plt.title('batch_2')\n",
    "plt.subplot(1,5,3); plt.hist(batch_3['labels']); plt.title('batch_3')\n",
    "plt.subplot(1,5,4); plt.hist(batch_4['labels']); plt.title('batch_4')\n",
    "plt.subplot(1,5,5); plt.hist(batch_5['labels']); plt.title('batch_5')"
   ]
  },
  {
   "cell_type": "markdown",
   "metadata": {},
   "source": [
    "#### Question\n",
    "Do you think that you have to organize batches in a specific way in order to make a training and a validation set? Do you think that your choice would change the performance significantly?"
   ]
  },
  {
   "cell_type": "markdown",
   "metadata": {},
   "source": [
    "The labels are distributed relatively evenly, that means we can just use a leave-one-out approach and use 4 batches for training while taking one for validation. Because the labels are not perfectly even I suggest using a multiclass F1-Score (or how about Kohens-Kappa?) for evaluation instead of Accuracy."
   ]
  },
  {
   "cell_type": "markdown",
   "metadata": {},
   "source": [
    "Now that you have decided how to distribute batches in your training and validation datasets, you can implement a function that builds and returns the datasets. You will be using this function in your experiments later."
   ]
  },
  {
   "cell_type": "code",
   "execution_count": 5,
   "metadata": {
    "collapsed": false
   },
   "outputs": [],
   "source": [
    "# convenience function that builds and returns data sets from CIFAR10\n",
    "def load_data(val_id=-1):\n",
    "    batches = list()\n",
    "    for i in np.arange(1,6):\n",
    "        batches.append(pickle.load(open(os.path.join(dataset_dir, 'data_batch_' + str(i)), 'rb')))\n",
    "    idx = np.arange(0,5)\n",
    "    if val_id == -1: val_id = np.random.choice(idx,1)[0]\n",
    "    \n",
    "    idx = np.delete(idx, val_id)\n",
    "    \n",
    "    train_x = list()\n",
    "    train_y = list()\n",
    "    for i in idx:\n",
    "        train_x.append((batches[i]['data'].reshape(-1, 3, 32, 32) / 255.).astype(np.float32))\n",
    "        train_y.append((batches[i]['labels']))\n",
    "    # make training set\n",
    "    train_x = np.vstack(train_x)\n",
    "    train_y = np.vstack(train_y).flatten()\n",
    "\n",
    "    # make validation set\n",
    "    val_x = (batches[val_id]['data'].reshape(-1, 3, 32, 32) / 255.).astype(np.float32)\n",
    "    val_y = batches[i]['labels']\n",
    "\n",
    "    # load test set\n",
    "    test_batch = pickle.load(open(os.path.join(dataset_dir, 'test_batch'), 'rb'))\n",
    "    tes_x = (test_batch['data'].reshape(-1, 3, 32, 32) / 255.).astype(np.float32)\n",
    "    tes_filenames = test_batch['filenames']\n",
    "\n",
    "    # load labels CIFAR10\n",
    "    f = open(os.path.join(dataset_dir, 'batches.meta'), 'rb')\n",
    "    cifar_dict = pickle.load(f)\n",
    "    label_to_names = {k:v for k, v in zip(range(10), cifar_dict['label_names'])}\n",
    "    f.close()\n",
    "\n",
    "    print '-----------------------------------------------------'\n",
    "    print label_to_names\n",
    "    print '-----------------------------------------------------'\n",
    "    print '> shape training set tensor: {}'.format(train_x.shape)\n",
    "    print '> length training labels: {}'.format(len(train_y))\n",
    "    print '-----------------------------------------------------'\n",
    "    print '> shape validation set tensor: {}'.format(val_x.shape)\n",
    "    print '> length training labels: {}'.format(len(val_y))\n",
    "    print '-----------------------------------------------------'\n",
    "    print '> shape test set tensor: {}'.format(tes_x.shape)\n",
    "    \n",
    "    return train_x, train_y, val_x, val_y, tes_x, tes_filenames"
   ]
  },
  {
   "cell_type": "markdown",
   "metadata": {},
   "source": [
    "# Build your network\n",
    "In the followign tasks you have to fill in the body of the function that returns the output layer of your network and\n",
    "define the training, validation and test *functions*.\n",
    "Note that these tasks were part of the assignment last week as well."
   ]
  },
  {
   "cell_type": "markdown",
   "metadata": {},
   "source": [
    "## Task 1: build a simple convolutional network\n",
    "### Network\n",
    "Define your network builder function. \n",
    "We build a convolutional network that contains:\n",
    "\n",
    "1. input layer\n",
    "2. convolutional layer\n",
    "3. max pooling layer\n",
    "4. convolutional layer\n",
    "5. max pooling layer\n",
    "6. fully-connected layer(s)\n",
    "7. soft-max layer\n",
    "\n",
    "### Hint\n",
    "\n",
    "1. Select the number of convolutional and max pooling layers and choose the filter size so, that the input image is shrinked to 5x5 before the fully connected layers.\n",
    "2. Use at least one fully connected layer between the last convolutional layer and the output fully connected layer with softmax nonlinearity."
   ]
  },
  {
   "cell_type": "code",
   "execution_count": 6,
   "metadata": {
    "collapsed": false
   },
   "outputs": [],
   "source": [
    "def build_network(input_tensor):\n",
    "    \"\"\"\n",
    "    Define the network layers.\n",
    "    \n",
    "    Args:\n",
    "        input_tensor (theano.tensor.ftensor4): Input tensor.\n",
    "    \n",
    "    Returns:\n",
    "        lasagne.layers.Layer: Output layer.\n",
    "    \"\"\"\n",
    "    \n",
    "    network = lasagne.layers.InputLayer(shape=(None, 3, 32, 32), input_var=input_tensor)\n",
    "    network = lasagne.layers.Conv2DLayer( network, num_filters=32, filter_size=(3, 3),  nonlinearity=lasagne.nonlinearities.LeakyRectify(0.33), W=lasagne.init.HeUniform()) \n",
    "    network = lasagne.layers.MaxPool2DLayer(network, pool_size=(2, 2))\n",
    "    network = lasagne.layers.Conv2DLayer( network, num_filters=32, filter_size=(5, 5),  nonlinearity=lasagne.nonlinearities.LeakyRectify(0.33), W=lasagne.init.HeUniform()) \n",
    "    network = lasagne.layers.MaxPool2DLayer(network, pool_size=(2, 2))\n",
    "    network = lasagne.layers.DenseLayer( network, num_units=500, W=lasagne.init.HeUniform(),      nonlinearity=lasagne.nonlinearities.rectify)\n",
    "    network = lasagne.layers.DenseLayer( network, num_units=10,W=lasagne.init.GlorotUniform(),      nonlinearity=lasagne.nonlinearities.softmax)\n",
    "    return network"
   ]
  },
  {
   "cell_type": "markdown",
   "metadata": {},
   "source": [
    "### Functions\n",
    "Define your **training**, **validation** and **evaluation** functions. By default, **use_l2_regularization** is set to False, and l2_loss is set to 0.0. You will have to modify this later, but it is just fine for the time being."
   ]
  },
  {
   "cell_type": "code",
   "execution_count": 7,
   "metadata": {
    "collapsed": true
   },
   "outputs": [],
   "source": [
    "def training_function(network, input_tensor, target_tensor, learning_rate, use_l2_regularization=False, l2_lambda=0.0001):\n",
    "    \"\"\"\n",
    "    Training function.\n",
    "    \n",
    "    Args:\n",
    "        network (lasagne.layers.Layer): Output layer.\n",
    "        input_tensor (theano.tensor.ftensor4): Input tensor.\n",
    "        target_tensor (theano.tensor.ivector): Target tensor.\n",
    "        \n",
    "    Returns:\n",
    "        function: Network update function. It accepts [input_tensor, target_tensor] tensors as input and outputs\n",
    "           [loss, l2_loss, accuracy] values.\n",
    "    \"\"\"\n",
    "    \n",
    "    # Get the network output and calculate metrics.\n",
    "    #\n",
    "    network_output = lasagne.layers.get_output(network)\n",
    "    l2_loss = 0.0\n",
    "    loss = lasagne.objectives.categorical_crossentropy(network_output, target_tensor).mean()# + l2_loss\n",
    "    accuracy = T.mean(T.eq(T.argmax(network_output, axis=1), target_tensor), dtype=theano.config.floatX)\n",
    "\n",
    "    # Get the network parameters and the update function.\n",
    "    #\n",
    "    network_params  = lasagne.layers.get_all_params(network, trainable=True)\n",
    "    weight_updates  = lasagne.updates.adam(loss, network_params)\n",
    "\n",
    "    # Construct the training function.\n",
    "    #\n",
    "    return theano.function([input_tensor, target_tensor], [loss, accuracy], updates=weight_updates)\n"
   ]
  },
  {
   "cell_type": "code",
   "execution_count": 8,
   "metadata": {
    "collapsed": true
   },
   "outputs": [],
   "source": [
    "def validate_function(network, input_tensor, target_tensor):\n",
    "    \"\"\"\n",
    "    Validation function.\n",
    "    \n",
    "    Args:\n",
    "        network (lasagne.layers.Layer): Output layer.\n",
    "        input_tensor (theano.tensor.ftensor4): Input tensor.\n",
    "        target_tensor (theano.tensor.ivector): Target tensor.\n",
    "        \n",
    "    Returns:\n",
    "        function: Network validation function. It accepts [input_tensor, target_tensor] tensors as input and outputs\n",
    "           [loss, accuracy] values.\n",
    "    \"\"\"\n",
    "\n",
    "    # Get the network output and calculate metrics.\n",
    "    #\n",
    "    network_output = lasagne.layers.get_output(network, deterministic = True)\n",
    "    loss = lasagne.objectives.categorical_crossentropy(network_output, target_tensor).mean() # + l2_loss\n",
    "    accuracy = T.mean(T.eq(T.argmax(network_output, axis=1), target_tensor), dtype=theano.config.floatX)\n",
    "    \n",
    "    # Construct the validation function.\n",
    "    #\n",
    "    return theano.function([input_tensor, target_tensor], [loss, accuracy])\n"
   ]
  },
  {
   "cell_type": "code",
   "execution_count": 9,
   "metadata": {
    "collapsed": true
   },
   "outputs": [],
   "source": [
    "def evaluate_function(network, input_tensor):\n",
    "    \"\"\"\n",
    "    Evaluation function.\n",
    "    \n",
    "    Args:\n",
    "        network (lasagne.layers.Layer): Output layer.\n",
    "        input_tensor (theano.tensor.ftensor4): Input tensor.\n",
    "        \n",
    "    Returns:\n",
    "        function: Network evaluation function. It accepts [input_tensor] tensor as input and outputs the network\n",
    "           prediction [prediction].\n",
    "    \"\"\"\n",
    "    \n",
    "    # Get the network output and calculate metrics.\n",
    "    #\n",
    "    network_output = lasagne.layers.get_output(network)\n",
    "    \n",
    "    # Construct the evaluation function.\n",
    "    #\n",
    "    return theano.function([input_tensor], network_output)"
   ]
  },
  {
   "cell_type": "markdown",
   "metadata": {},
   "source": [
    "### Training\n",
    "Now you can define a function that does trains the convnet by updating parameters for each mini-batch. This function will have to inculde the two main steps that we implemented last week: (1) a pass over the training set, to update the parameters, and (2) a pass over the validation set, to check the performance. This will be repeated *n_epochs* time.\n",
    "During training/validation, you will have to store the loss and accuracy values, in order to visualize them after each epoch in a plot that shows the learning curves. This is useful to monitor the training procedure.\n",
    "Note that all these steps have been implemented in the previous assignment, you can reuse a lot of that code!"
   ]
  },
  {
   "cell_type": "code",
   "execution_count": 10,
   "metadata": {
    "collapsed": true
   },
   "outputs": [],
   "source": [
    "def train_convnet(network,\n",
    "                  train_x,\n",
    "                  train_y,\n",
    "                  validation_x,\n",
    "                  validation_y,\n",
    "                  n_epochs,\n",
    "                  network_name,\n",
    "                  training_fn,\n",
    "                  validation_fn,\n",
    "                  training_batch_size,\n",
    "                  validation_batch_size,\n",
    "                  plot_curves=True):\n",
    "    \"\"\"\n",
    "    Train the given network.\n",
    "    \n",
    "    Args:\n",
    "        network (lasagne.layers.Layer): Output layer.\n",
    "        train_x (numpy.ndarray): Training images.\n",
    "        train_y (numpy.ndarray): Training labels.\n",
    "        validation_x (numpy.ndarray): Validation images.\n",
    "        validation_y (numpy.ndarray): Validation labels.\n",
    "        n_epochs (int): Number of epochs.\n",
    "        network_name (str): Name used to identify experiment.\n",
    "        traing_fn (function): Training function.\n",
    "        validation_fn (function): Validation function.\n",
    "        training_batch_size (int): Training batch size.\n",
    "        validation_batch_size (int): Validation batch size.\n",
    "        plot_curves (bool): Plot curves flag.\n",
    "    \"\"\"\n",
    "    print training_batch_size\n",
    "    print len(train_y)\n",
    "    n_batch_train = len(train_y)/training_batch_size # number of training mini-batches given the batch_size\n",
    "    n_batch_val   = len(val_y)/validation_batch_size \n",
    "    # lists where we will be storing values during training, for visualization purposes\n",
    "    tra_losses = []\n",
    "    val_losses = []\n",
    "    val_accs   = []\n",
    "     \n",
    "    # we want to save the parameters that give the best performance on the validation set\n",
    "    # therefore, we store the best validation accuracy, and save the parameters to disk\n",
    "    best_val_acc = 0\n",
    "    # loop over the number of epochs\n",
    "    plt.close('all')\n",
    "    fig = plt.figure(figsize=(10, 5))\n",
    "    for epoch in xrange(n_epochs):\n",
    "        # training\n",
    "        print epoch\n",
    "        \n",
    "        cum_tra_loss = 0.0 # cumulative training loss\n",
    "        for b in range(n_batch_train-1):\n",
    "            x_batch = train_x[b*training_batch_size:(b+1)*training_batch_size,:].astype(np.float32) # extract a mini-batch from x_train\n",
    "            y_batch = train_y[b*training_batch_size:(b+1)*training_batch_size] # extract labels for the mini-batch\n",
    "            mini_batch_loss = training_fn(x_batch, y_batch)\n",
    "            cum_tra_loss += mini_batch_loss[0]\n",
    "        cum_tra_loss /= float(n_batch_train)\n",
    "\n",
    "        # validation\n",
    "        print('validating')\n",
    "        cum_val_loss = 0.0\n",
    "        cum_val_acc = 0.0\n",
    "        for b in range(n_batch_val-1):\n",
    "            x_batch = validation_x[b*validation_batch_size:(b+1)*validation_batch_size,:].astype(np.float32) # extract a mini-batch from x_train\n",
    "            y_batch = validation_y[b*validation_batch_size:(b+1)*validation_batch_size] # extract labels for the mini-batch\n",
    "            val_loss, val_acc = validation_fn(x_batch, y_batch)\n",
    "            cum_val_loss += val_loss\n",
    "            cum_val_acc  += val_acc\n",
    "        cum_val_acc  /= float(n_batch_val)\n",
    "        cum_val_loss /= float(n_batch_val)\n",
    "\n",
    "        # if the accuracy improves, save the network parameters\n",
    "        if cum_val_acc > best_val_acc:\n",
    "            best_val_acc = val_acc\n",
    "            # save network\n",
    "            params = lasagne.layers.get_all_param_values(network)\n",
    "            np.savez('./'+ network_name +'.npz', params=params)\n",
    "\n",
    "        # add to lists\n",
    "        tra_losses.append(cum_tra_loss)\n",
    "        val_losses.append(cum_val_loss)\n",
    "        val_accs.append(cum_val_acc)\n",
    "        tra_loss_plt = plt.plot(range(len(tra_losses)), tra_losses, 'b')\n",
    "        val_loss_plt = plt.plot(range(len(val_losses)), val_losses, 'g')\n",
    "        val_acc_plt  = plt.plot(range(len(val_accs)), val_accs, 'r')\n",
    "#        plt.ylim([0,5])\n",
    "        plt.xlabel('epoch')\n",
    "        plt.ylabel('loss')\n",
    "        plt.legend([tra_loss_plt[0], val_loss_plt[0], val_acc_plt[0]], \n",
    "                   ['training loss', 'validation loss', 'validation accuracy'],\n",
    "                   loc='center left', bbox_to_anchor=(1, 0.5))\n",
    "        plt.title('Best validation accuracy = {:.2f}%'.format(100. * best_val_acc))\n",
    "        plt.pause(0.001)\n",
    "\n",
    "\n",
    "        # Your code. Hint: you can copy your solution from the last assignment.\n",
    "        pass"
   ]
  },
  {
   "cell_type": "markdown",
   "metadata": {},
   "source": [
    "## Task 2: Train your network\n",
    "Now that you have defined all the parameters and the functions necessary to train and validate your network, use this cell to run your exepriment. Define a *network_name*, which will be used to (1) save the parameters of the trained network to disk and (2) save a csv file to submit to challenger. Since you will be running several experiments and reusing the same cell (copy-paste) several times, having a name for the network used in each experiment is handy!"
   ]
  },
  {
   "cell_type": "code",
   "execution_count": 11,
   "metadata": {
    "collapsed": false
   },
   "outputs": [
    {
     "name": "stdout",
     "output_type": "stream",
     "text": [
      "-----------------------------------------------------\n",
      "{0: 'airplane', 1: 'automobile', 2: 'bird', 3: 'cat', 4: 'deer', 5: 'dog', 6: 'frog', 7: 'horse', 8: 'ship', 9: 'truck'}\n",
      "-----------------------------------------------------\n",
      "> shape training set tensor: (40000L, 3L, 32L, 32L)\n",
      "> length training labels: 40000\n",
      "-----------------------------------------------------\n",
      "> shape validation set tensor: (10000L, 3L, 32L, 32L)\n",
      "> length training labels: 10000\n",
      "-----------------------------------------------------\n",
      "> shape test set tensor: (10000L, 3L, 32L, 32L)\n"
     ]
    },
    {
     "ename": "KeyboardInterrupt",
     "evalue": "",
     "output_type": "error",
     "traceback": [
      "\u001b[0;31m---------------------------------------------------------------------------\u001b[0m",
      "\u001b[0;31mKeyboardInterrupt\u001b[0m                         Traceback (most recent call last)",
      "\u001b[0;32m<ipython-input-11-ba7e827d3df9>\u001b[0m in \u001b[0;36m<module>\u001b[0;34m()\u001b[0m\n\u001b[1;32m     25\u001b[0m \u001b[1;31m# Define functions.\u001b[0m\u001b[1;33m\u001b[0m\u001b[1;33m\u001b[0m\u001b[0m\n\u001b[1;32m     26\u001b[0m \u001b[1;31m#\u001b[0m\u001b[1;33m\u001b[0m\u001b[1;33m\u001b[0m\u001b[0m\n\u001b[0;32m---> 27\u001b[0;31m \u001b[0mtrain_network\u001b[0m \u001b[1;33m=\u001b[0m \u001b[0mtraining_function\u001b[0m\u001b[1;33m(\u001b[0m\u001b[0mnetwork\u001b[0m\u001b[1;33m=\u001b[0m\u001b[0mnetwork\u001b[0m\u001b[1;33m,\u001b[0m \u001b[0minput_tensor\u001b[0m\u001b[1;33m=\u001b[0m\u001b[0minputs\u001b[0m\u001b[1;33m,\u001b[0m \u001b[0mtarget_tensor\u001b[0m\u001b[1;33m=\u001b[0m\u001b[0mtargets\u001b[0m\u001b[1;33m,\u001b[0m \u001b[0mlearning_rate\u001b[0m\u001b[1;33m=\u001b[0m\u001b[0mlearning_rate\u001b[0m\u001b[1;33m)\u001b[0m\u001b[1;33m\u001b[0m\u001b[0m\n\u001b[0m\u001b[1;32m     28\u001b[0m \u001b[0mvalidate_network\u001b[0m \u001b[1;33m=\u001b[0m \u001b[0mvalidate_function\u001b[0m\u001b[1;33m(\u001b[0m\u001b[0mnetwork\u001b[0m\u001b[1;33m=\u001b[0m\u001b[0mnetwork\u001b[0m\u001b[1;33m,\u001b[0m \u001b[0minput_tensor\u001b[0m\u001b[1;33m=\u001b[0m\u001b[0minputs\u001b[0m\u001b[1;33m,\u001b[0m \u001b[0mtarget_tensor\u001b[0m\u001b[1;33m=\u001b[0m\u001b[0mtargets\u001b[0m\u001b[1;33m)\u001b[0m\u001b[1;33m\u001b[0m\u001b[0m\n\u001b[1;32m     29\u001b[0m \u001b[1;33m\u001b[0m\u001b[0m\n",
      "\u001b[0;32m<ipython-input-7-e006f847289e>\u001b[0m in \u001b[0;36mtraining_function\u001b[0;34m(network, input_tensor, target_tensor, learning_rate, use_l2_regularization, l2_lambda)\u001b[0m\n\u001b[1;32m     27\u001b[0m     \u001b[1;31m# Construct the training function.\u001b[0m\u001b[1;33m\u001b[0m\u001b[1;33m\u001b[0m\u001b[0m\n\u001b[1;32m     28\u001b[0m     \u001b[1;31m#\u001b[0m\u001b[1;33m\u001b[0m\u001b[1;33m\u001b[0m\u001b[0m\n\u001b[0;32m---> 29\u001b[0;31m     \u001b[1;32mreturn\u001b[0m \u001b[0mtheano\u001b[0m\u001b[1;33m.\u001b[0m\u001b[0mfunction\u001b[0m\u001b[1;33m(\u001b[0m\u001b[1;33m[\u001b[0m\u001b[0minput_tensor\u001b[0m\u001b[1;33m,\u001b[0m \u001b[0mtarget_tensor\u001b[0m\u001b[1;33m]\u001b[0m\u001b[1;33m,\u001b[0m \u001b[1;33m[\u001b[0m\u001b[0mloss\u001b[0m\u001b[1;33m,\u001b[0m \u001b[0maccuracy\u001b[0m\u001b[1;33m]\u001b[0m\u001b[1;33m,\u001b[0m \u001b[0mupdates\u001b[0m\u001b[1;33m=\u001b[0m\u001b[0mweight_updates\u001b[0m\u001b[1;33m)\u001b[0m\u001b[1;33m\u001b[0m\u001b[0m\n\u001b[0m",
      "\u001b[0;32mC:\\Anaconda2\\lib\\site-packages\\theano\\compile\\function.pyc\u001b[0m in \u001b[0;36mfunction\u001b[0;34m(inputs, outputs, mode, updates, givens, no_default_updates, accept_inplace, name, rebuild_strict, allow_input_downcast, profile, on_unused_input)\u001b[0m\n\u001b[1;32m    318\u001b[0m                    \u001b[0mon_unused_input\u001b[0m\u001b[1;33m=\u001b[0m\u001b[0mon_unused_input\u001b[0m\u001b[1;33m,\u001b[0m\u001b[1;33m\u001b[0m\u001b[0m\n\u001b[1;32m    319\u001b[0m                    \u001b[0mprofile\u001b[0m\u001b[1;33m=\u001b[0m\u001b[0mprofile\u001b[0m\u001b[1;33m,\u001b[0m\u001b[1;33m\u001b[0m\u001b[0m\n\u001b[0;32m--> 320\u001b[0;31m                    output_keys=output_keys)\n\u001b[0m\u001b[1;32m    321\u001b[0m     \u001b[1;31m# We need to add the flag check_aliased inputs if we have any mutable or\u001b[0m\u001b[1;33m\u001b[0m\u001b[1;33m\u001b[0m\u001b[0m\n\u001b[1;32m    322\u001b[0m     \u001b[1;31m# borrowed used defined inputs\u001b[0m\u001b[1;33m\u001b[0m\u001b[1;33m\u001b[0m\u001b[0m\n",
      "\u001b[0;32mC:\\Anaconda2\\lib\\site-packages\\theano\\compile\\pfunc.pyc\u001b[0m in \u001b[0;36mpfunc\u001b[0;34m(params, outputs, mode, updates, givens, no_default_updates, accept_inplace, name, rebuild_strict, allow_input_downcast, profile, on_unused_input, output_keys)\u001b[0m\n\u001b[1;32m    477\u001b[0m                          \u001b[0maccept_inplace\u001b[0m\u001b[1;33m=\u001b[0m\u001b[0maccept_inplace\u001b[0m\u001b[1;33m,\u001b[0m \u001b[0mname\u001b[0m\u001b[1;33m=\u001b[0m\u001b[0mname\u001b[0m\u001b[1;33m,\u001b[0m\u001b[1;33m\u001b[0m\u001b[0m\n\u001b[1;32m    478\u001b[0m                          \u001b[0mprofile\u001b[0m\u001b[1;33m=\u001b[0m\u001b[0mprofile\u001b[0m\u001b[1;33m,\u001b[0m \u001b[0mon_unused_input\u001b[0m\u001b[1;33m=\u001b[0m\u001b[0mon_unused_input\u001b[0m\u001b[1;33m,\u001b[0m\u001b[1;33m\u001b[0m\u001b[0m\n\u001b[0;32m--> 479\u001b[0;31m                          output_keys=output_keys)\n\u001b[0m\u001b[1;32m    480\u001b[0m \u001b[1;33m\u001b[0m\u001b[0m\n\u001b[1;32m    481\u001b[0m \u001b[1;33m\u001b[0m\u001b[0m\n",
      "\u001b[0;32mC:\\Anaconda2\\lib\\site-packages\\theano\\compile\\function_module.pyc\u001b[0m in \u001b[0;36morig_function\u001b[0;34m(inputs, outputs, mode, accept_inplace, name, profile, on_unused_input, output_keys)\u001b[0m\n\u001b[1;32m   1775\u001b[0m                    \u001b[0mon_unused_input\u001b[0m\u001b[1;33m=\u001b[0m\u001b[0mon_unused_input\u001b[0m\u001b[1;33m,\u001b[0m\u001b[1;33m\u001b[0m\u001b[0m\n\u001b[1;32m   1776\u001b[0m                    \u001b[0moutput_keys\u001b[0m\u001b[1;33m=\u001b[0m\u001b[0moutput_keys\u001b[0m\u001b[1;33m)\u001b[0m\u001b[1;33m.\u001b[0m\u001b[0mcreate\u001b[0m\u001b[1;33m(\u001b[0m\u001b[1;33m\u001b[0m\u001b[0m\n\u001b[0;32m-> 1777\u001b[0;31m             defaults)\n\u001b[0m\u001b[1;32m   1778\u001b[0m \u001b[1;33m\u001b[0m\u001b[0m\n\u001b[1;32m   1779\u001b[0m     \u001b[0mt2\u001b[0m \u001b[1;33m=\u001b[0m \u001b[0mtime\u001b[0m\u001b[1;33m.\u001b[0m\u001b[0mtime\u001b[0m\u001b[1;33m(\u001b[0m\u001b[1;33m)\u001b[0m\u001b[1;33m\u001b[0m\u001b[0m\n",
      "\u001b[0;32mC:\\Anaconda2\\lib\\site-packages\\theano\\compile\\function_module.pyc\u001b[0m in \u001b[0;36mcreate\u001b[0;34m(self, input_storage, trustme, storage_map)\u001b[0m\n\u001b[1;32m   1639\u001b[0m             \u001b[0mtheano\u001b[0m\u001b[1;33m.\u001b[0m\u001b[0mconfig\u001b[0m\u001b[1;33m.\u001b[0m\u001b[0mtraceback\u001b[0m\u001b[1;33m.\u001b[0m\u001b[0mlimit\u001b[0m \u001b[1;33m=\u001b[0m \u001b[1;36m0\u001b[0m\u001b[1;33m\u001b[0m\u001b[0m\n\u001b[1;32m   1640\u001b[0m             _fn, _i, _o = self.linker.make_thunk(\n\u001b[0;32m-> 1641\u001b[0;31m                 input_storage=input_storage_lists, storage_map=storage_map)\n\u001b[0m\u001b[1;32m   1642\u001b[0m         \u001b[1;32mfinally\u001b[0m\u001b[1;33m:\u001b[0m\u001b[1;33m\u001b[0m\u001b[0m\n\u001b[1;32m   1643\u001b[0m             \u001b[0mtheano\u001b[0m\u001b[1;33m.\u001b[0m\u001b[0mconfig\u001b[0m\u001b[1;33m.\u001b[0m\u001b[0mtraceback\u001b[0m\u001b[1;33m.\u001b[0m\u001b[0mlimit\u001b[0m \u001b[1;33m=\u001b[0m \u001b[0mlimit_orig\u001b[0m\u001b[1;33m\u001b[0m\u001b[0m\n",
      "\u001b[0;32mC:\\Anaconda2\\lib\\site-packages\\theano\\gof\\link.pyc\u001b[0m in \u001b[0;36mmake_thunk\u001b[0;34m(self, input_storage, output_storage, storage_map)\u001b[0m\n\u001b[1;32m    688\u001b[0m         return self.make_all(input_storage=input_storage,\n\u001b[1;32m    689\u001b[0m                              \u001b[0moutput_storage\u001b[0m\u001b[1;33m=\u001b[0m\u001b[0moutput_storage\u001b[0m\u001b[1;33m,\u001b[0m\u001b[1;33m\u001b[0m\u001b[0m\n\u001b[0;32m--> 690\u001b[0;31m                              storage_map=storage_map)[:3]\n\u001b[0m\u001b[1;32m    691\u001b[0m \u001b[1;33m\u001b[0m\u001b[0m\n\u001b[1;32m    692\u001b[0m     \u001b[1;32mdef\u001b[0m \u001b[0mmake_all\u001b[0m\u001b[1;33m(\u001b[0m\u001b[0mself\u001b[0m\u001b[1;33m,\u001b[0m \u001b[0minput_storage\u001b[0m\u001b[1;33m,\u001b[0m \u001b[0moutput_storage\u001b[0m\u001b[1;33m)\u001b[0m\u001b[1;33m:\u001b[0m\u001b[1;33m\u001b[0m\u001b[0m\n",
      "\u001b[0;32mC:\\Anaconda2\\lib\\site-packages\\theano\\gof\\vm.pyc\u001b[0m in \u001b[0;36mmake_all\u001b[0;34m(self, profiler, input_storage, output_storage, storage_map)\u001b[0m\n\u001b[1;32m    970\u001b[0m                  ):\n\u001b[1;32m    971\u001b[0m         \u001b[0mfgraph\u001b[0m \u001b[1;33m=\u001b[0m \u001b[0mself\u001b[0m\u001b[1;33m.\u001b[0m\u001b[0mfgraph\u001b[0m\u001b[1;33m\u001b[0m\u001b[0m\n\u001b[0;32m--> 972\u001b[0;31m         \u001b[0morder\u001b[0m \u001b[1;33m=\u001b[0m \u001b[0mself\u001b[0m\u001b[1;33m.\u001b[0m\u001b[0mschedule\u001b[0m\u001b[1;33m(\u001b[0m\u001b[0mfgraph\u001b[0m\u001b[1;33m)\u001b[0m\u001b[1;33m\u001b[0m\u001b[0m\n\u001b[0m\u001b[1;32m    973\u001b[0m         \u001b[0mno_recycling\u001b[0m \u001b[1;33m=\u001b[0m \u001b[0mself\u001b[0m\u001b[1;33m.\u001b[0m\u001b[0mno_recycling\u001b[0m\u001b[1;33m\u001b[0m\u001b[0m\n\u001b[1;32m    974\u001b[0m \u001b[1;33m\u001b[0m\u001b[0m\n",
      "\u001b[0;32mC:\\Anaconda2\\lib\\site-packages\\theano\\gof\\link.pyc\u001b[0m in \u001b[0;36mschedule\u001b[0;34m(self, fgraph)\u001b[0m\n\u001b[1;32m    397\u001b[0m \u001b[1;33m\u001b[0m\u001b[0m\n\u001b[1;32m    398\u001b[0m     \u001b[1;32mdef\u001b[0m \u001b[0mschedule\u001b[0m\u001b[1;33m(\u001b[0m\u001b[0mself\u001b[0m\u001b[1;33m,\u001b[0m \u001b[0mfgraph\u001b[0m\u001b[1;33m)\u001b[0m\u001b[1;33m:\u001b[0m\u001b[1;33m\u001b[0m\u001b[0m\n\u001b[0;32m--> 399\u001b[0;31m         \u001b[1;32mreturn\u001b[0m \u001b[0mfgraph\u001b[0m\u001b[1;33m.\u001b[0m\u001b[0mtoposort\u001b[0m\u001b[1;33m(\u001b[0m\u001b[1;33m)\u001b[0m\u001b[1;33m\u001b[0m\u001b[0m\n\u001b[0m\u001b[1;32m    400\u001b[0m \u001b[1;33m\u001b[0m\u001b[0m\n\u001b[1;32m    401\u001b[0m \u001b[1;33m\u001b[0m\u001b[0m\n",
      "\u001b[0;32mC:\\Anaconda2\\lib\\site-packages\\theano\\gof\\fg.pyc\u001b[0m in \u001b[0;36mtoposort\u001b[0;34m(self)\u001b[0m\n\u001b[1;32m    717\u001b[0m         \u001b[0mfg\u001b[0m \u001b[1;33m=\u001b[0m \u001b[0mself\u001b[0m\u001b[1;33m\u001b[0m\u001b[0m\n\u001b[1;32m    718\u001b[0m \u001b[1;33m\u001b[0m\u001b[0m\n\u001b[0;32m--> 719\u001b[0;31m         \u001b[0mords\u001b[0m \u001b[1;33m=\u001b[0m \u001b[0mself\u001b[0m\u001b[1;33m.\u001b[0m\u001b[0morderings\u001b[0m\u001b[1;33m(\u001b[0m\u001b[1;33m)\u001b[0m\u001b[1;33m\u001b[0m\u001b[0m\n\u001b[0m\u001b[1;32m    720\u001b[0m \u001b[1;33m\u001b[0m\u001b[0m\n\u001b[1;32m    721\u001b[0m         \u001b[0morder\u001b[0m \u001b[1;33m=\u001b[0m \u001b[0mgraph\u001b[0m\u001b[1;33m.\u001b[0m\u001b[0mio_toposort\u001b[0m\u001b[1;33m(\u001b[0m\u001b[0mfg\u001b[0m\u001b[1;33m.\u001b[0m\u001b[0minputs\u001b[0m\u001b[1;33m,\u001b[0m \u001b[0mfg\u001b[0m\u001b[1;33m.\u001b[0m\u001b[0moutputs\u001b[0m\u001b[1;33m,\u001b[0m \u001b[0mords\u001b[0m\u001b[1;33m)\u001b[0m\u001b[1;33m\u001b[0m\u001b[0m\n",
      "\u001b[0;32mC:\\Anaconda2\\lib\\site-packages\\theano\\gof\\fg.pyc\u001b[0m in \u001b[0;36morderings\u001b[0;34m(self)\u001b[0m\n\u001b[1;32m    741\u001b[0m         \u001b[1;32mfor\u001b[0m \u001b[0mfeature\u001b[0m \u001b[1;32min\u001b[0m \u001b[0mself\u001b[0m\u001b[1;33m.\u001b[0m\u001b[0m_features\u001b[0m\u001b[1;33m:\u001b[0m\u001b[1;33m\u001b[0m\u001b[0m\n\u001b[1;32m    742\u001b[0m             \u001b[1;32mif\u001b[0m \u001b[0mhasattr\u001b[0m\u001b[1;33m(\u001b[0m\u001b[0mfeature\u001b[0m\u001b[1;33m,\u001b[0m \u001b[1;34m'orderings'\u001b[0m\u001b[1;33m)\u001b[0m\u001b[1;33m:\u001b[0m\u001b[1;33m\u001b[0m\u001b[0m\n\u001b[0;32m--> 743\u001b[0;31m                 \u001b[0morderings\u001b[0m \u001b[1;33m=\u001b[0m \u001b[0mfeature\u001b[0m\u001b[1;33m.\u001b[0m\u001b[0morderings\u001b[0m\u001b[1;33m(\u001b[0m\u001b[0mself\u001b[0m\u001b[1;33m)\u001b[0m\u001b[1;33m\u001b[0m\u001b[0m\n\u001b[0m\u001b[1;32m    744\u001b[0m                 \u001b[1;32mif\u001b[0m \u001b[1;32mnot\u001b[0m \u001b[0misinstance\u001b[0m\u001b[1;33m(\u001b[0m\u001b[0morderings\u001b[0m\u001b[1;33m,\u001b[0m \u001b[0mOrderedDict\u001b[0m\u001b[1;33m)\u001b[0m\u001b[1;33m:\u001b[0m\u001b[1;33m\u001b[0m\u001b[0m\n\u001b[1;32m    745\u001b[0m                     raise TypeError(\"Non-deterministic return value from \" +\n",
      "\u001b[0;32mC:\\Anaconda2\\lib\\site-packages\\theano\\gof\\destroyhandler.pyc\u001b[0m in \u001b[0;36morderings\u001b[0;34m(self, fgraph)\u001b[0m\n\u001b[1;32m    999\u001b[0m                         app.op, 'destroyhandler_tolerate_aliased', [])\n\u001b[1;32m   1000\u001b[0m                     \u001b[1;32massert\u001b[0m \u001b[0misinstance\u001b[0m\u001b[1;33m(\u001b[0m\u001b[0mtolerate_aliased\u001b[0m\u001b[1;33m,\u001b[0m \u001b[0mlist\u001b[0m\u001b[1;33m)\u001b[0m\u001b[1;33m\u001b[0m\u001b[0m\n\u001b[0;32m-> 1001\u001b[0;31m                     ignored = OrderedSet(idx1 for idx0, idx1 in tolerate_aliased\n\u001b[0m\u001b[1;32m   1002\u001b[0m                                          if idx0 == destroyed_idx)\n\u001b[1;32m   1003\u001b[0m                     \u001b[1;31m# print 'tolerated', tolerated\u001b[0m\u001b[1;33m\u001b[0m\u001b[1;33m\u001b[0m\u001b[0m\n",
      "\u001b[0;32mC:\\Anaconda2\\lib\\site-packages\\theano\\misc\\ordered_set.pyc\u001b[0m in \u001b[0;36m__init__\u001b[0;34m(self, iterable)\u001b[0m\n\u001b[1;32m     87\u001b[0m     \u001b[1;32mdef\u001b[0m \u001b[0m__init__\u001b[0m\u001b[1;33m(\u001b[0m\u001b[0mself\u001b[0m\u001b[1;33m,\u001b[0m \u001b[0miterable\u001b[0m\u001b[1;33m=\u001b[0m\u001b[0mNone\u001b[0m\u001b[1;33m)\u001b[0m\u001b[1;33m:\u001b[0m\u001b[1;33m\u001b[0m\u001b[0m\n\u001b[1;32m     88\u001b[0m         \u001b[1;31m# Checks added by IG\u001b[0m\u001b[1;33m\u001b[0m\u001b[1;33m\u001b[0m\u001b[0m\n\u001b[0;32m---> 89\u001b[0;31m         \u001b[0mcheck_deterministic\u001b[0m\u001b[1;33m(\u001b[0m\u001b[0miterable\u001b[0m\u001b[1;33m)\u001b[0m\u001b[1;33m\u001b[0m\u001b[0m\n\u001b[0m\u001b[1;32m     90\u001b[0m         \u001b[0mself\u001b[0m\u001b[1;33m.\u001b[0m\u001b[0m__root\u001b[0m \u001b[1;33m=\u001b[0m \u001b[0mroot\u001b[0m \u001b[1;33m=\u001b[0m \u001b[0mLink\u001b[0m\u001b[1;33m(\u001b[0m\u001b[1;33m)\u001b[0m         \u001b[1;31m# sentinel node for doubly linked list\u001b[0m\u001b[1;33m\u001b[0m\u001b[0m\n\u001b[1;32m     91\u001b[0m         \u001b[0mroot\u001b[0m\u001b[1;33m.\u001b[0m\u001b[0mprev\u001b[0m \u001b[1;33m=\u001b[0m \u001b[0mroot\u001b[0m\u001b[1;33m.\u001b[0m\u001b[0mnext\u001b[0m \u001b[1;33m=\u001b[0m \u001b[0mweakref\u001b[0m\u001b[1;33m.\u001b[0m\u001b[0mref\u001b[0m\u001b[1;33m(\u001b[0m\u001b[0mroot\u001b[0m\u001b[1;33m)\u001b[0m\u001b[1;33m\u001b[0m\u001b[0m\n",
      "\u001b[0;31mKeyboardInterrupt\u001b[0m: "
     ]
    }
   ],
   "source": [
    "# Train your network\n",
    "\n",
    "# Load data.\n",
    "#\n",
    "train_x, train_y, val_x, val_y, tes_x, tes_filenames = load_data()\n",
    "\n",
    "# Define parameters\n",
    "#\n",
    "tra_batch_size = 200\n",
    "val_batch_size = 1000\n",
    "n_epochs = 100\n",
    "learning_rate = 0\n",
    "\n",
    "network_name = 'network_task_2'\n",
    "\n",
    "# Define the symbolic input X and the symbolic target y.\n",
    "#\n",
    "inputs = T.tensor4('X')\n",
    "targets = T.ivector('y')\n",
    "\n",
    "# Build the network.\n",
    "#\n",
    "network = build_network(input_tensor=inputs) # THIS FUNCTION MAY CHANGE IN FUTURE EXPERIMENTS!\n",
    "\n",
    "# Define functions.\n",
    "#\n",
    "train_network = training_function(network=network, input_tensor=inputs, target_tensor=targets, learning_rate=learning_rate)\n",
    "validate_network = validate_function(network=network, input_tensor=inputs, target_tensor=targets)\n",
    "\n",
    "# Train the network.\n",
    "#\n",
    "train_convnet(network,\n",
    "              train_x,\n",
    "              train_y,\n",
    "              val_x,\n",
    "              val_y,\n",
    "              n_epochs,\n",
    "              network_name,\n",
    "              training_fn=train_network,\n",
    "              validation_fn=validate_network,\n",
    "              training_batch_size=tra_batch_size,\n",
    "              validation_batch_size=val_batch_size,\n",
    "              plot_curves=True)"
   ]
  },
  {
   "cell_type": "markdown",
   "metadata": {},
   "source": [
    "### Test and submit results to challenger\n",
    "Now you can run the network on the test set, get the predicted labels, and submit the results to challenger for evaluation. Use the following code (copy-paste) also for future tasks."
   ]
  },
  {
   "cell_type": "code",
   "execution_count": null,
   "metadata": {
    "collapsed": false
   },
   "outputs": [],
   "source": [
    "# Test and submit to challenger\n",
    "\n",
    "# laod data (if not done before)\n",
    "train_x, train_y, val_x, val_y, tes_x, tes_filenames = load_data()\n",
    "\n",
    "# indicate the name of the network for this test\n",
    "network_name = 'network_task_2'\n",
    "\n",
    "# initialize the network used in this experiment (this may change)\n",
    "network = build_network(inputs)\n",
    "npz = np.load('./'+network_name+'.npz') # load stored parameters\n",
    "lasagne.layers.set_all_param_values(network, npz['params']) # set parameters\n",
    "\n",
    "# initialize tensor variable\n",
    "# (in case you run this cell after training and after restarting the notebook)\n",
    "inputs = T.tensor4('X')\n",
    "\n",
    "# compile evaluate_function()\n",
    "evaluate_network = evaluate_function(network=network, input_tensor=inputs)\n",
    "\n",
    "# classify the test set\n",
    "test_predictions = evaluate_network(tes_x)\n",
    "tes_y = np.argmax(test_predictions, axis=1)\n",
    "\n",
    "# write csv files with outputs\n",
    "ho = open('./results_{}.csv'.format(network_name), 'w')\n",
    "ho.write('filename, label\\n')\n",
    "for filename, label in zip(tes_filenames, tes_y):\n",
    "    ho.write('{}, {}\\n'.format(filename, label))\n",
    "ho.close()\n",
    "\n",
    "# submit to challenger\n",
    "challenger.submit_results({'username': '',\n",
    "                           'password': ''},\n",
    "                          'results_{}.csv'.format(network_name),\n",
    "                          {'notes': 'my first network'})"
   ]
  },
  {
   "cell_type": "markdown",
   "metadata": {},
   "source": [
    "## Task 3: Add dropout layers\n",
    "Modify your network so it would contain dropout.\n",
    "\n",
    "**Hint**: dropout is typically added to fully-connected layers, but it can be applied to convolutional layers as well.\n",
    "\n",
    "In order to prepare and run your experiment, copy and modify previous cells to fill in the next three cells. Please do the same for the following tasks as well."
   ]
  },
  {
   "cell_type": "code",
   "execution_count": null,
   "metadata": {
    "collapsed": true
   },
   "outputs": [],
   "source": [
    "def build_network(input_tensor):\n",
    "    \"\"\"\n",
    "    Define the network layers.\n",
    "    \n",
    "    Args:\n",
    "        input_tensor (theano.tensor.ftensor4): Input tensor.\n",
    "    \n",
    "    Returns:\n",
    "        lasagne.layers.Layer: Output layer.\n",
    "    \"\"\"\n",
    "    \n",
    "    network = lasagne.layers.InputLayer(shape=(None, 3, 32, 32), input_var=input_tensor)\n",
    "    network = lasagne.layers.Conv2DLayer( network, num_filters=32, filter_size=(3, 3),  nonlinearity=lasagne.nonlinearities.LeakyRectify(0.33), W=lasagne.init.HeUniform()) \n",
    "    network = lasagne.layers.MaxPool2DLayer(network, pool_size=(2, 2))\n",
    "    network = lasagne.layers.Conv2DLayer( network, num_filters=32, filter_size=(5, 5),  nonlinearity=lasagne.nonlinearities.LeakyRectify(0.33), W=lasagne.init.HeUniform()) \n",
    "    network = lasagne.layers.MaxPool2DLayer(network, pool_size=(2, 2))\n",
    "    network = lasagne.layers.DropoutLayer(network, p=0.5)\n",
    "    network = lasagne.layers.DenseLayer( network, num_units=200, W=lasagne.init.HeUniform(),      nonlinearity=lasagne.nonlinearities.rectify)\n",
    "    network = lasagne.layers.DenseLayer( network, num_units=10,W=lasagne.init.GlorotUniform(),      nonlinearity=lasagne.nonlinearities.softmax)\n",
    "    return network"
   ]
  },
  {
   "cell_type": "code",
   "execution_count": null,
   "metadata": {
    "collapsed": true
   },
   "outputs": [],
   "source": [
    "# Train your network\n",
    "\n",
    "# Load data.\n",
    "#\n",
    "train_x, train_y, val_x, val_y, tes_x, tes_filenames = load_data()\n",
    "\n",
    "# Define parameters\n",
    "#\n",
    "tra_batch_size = 200\n",
    "val_batch_size = 1000 # irrelevant as we can still fit everything on the GPU\n",
    "n_epochs = 100\n",
    "learning_rate = 0\n",
    "\n",
    "network_name = 'network_task_2'\n",
    "\n",
    "# Define the symbolic input X and the symbolic target y.\n",
    "#\n",
    "inputs = T.tensor4('X')\n",
    "targets = T.ivector('y')\n",
    "\n",
    "# Build the network.\n",
    "#\n",
    "network = build_network(input_tensor=inputs) # THIS FUNCTION MAY CHANGE IN FUTURE EXPERIMENTS!\n",
    "\n",
    "# Define functions.\n",
    "#\n",
    "train_network = training_function(network=network, input_tensor=inputs, target_tensor=targets, learning_rate=learning_rate)\n",
    "validate_network = validate_function(network=network, input_tensor=inputs, target_tensor=targets)\n",
    "\n",
    "# Train the network.\n",
    "#\n",
    "train_convnet(network,\n",
    "              train_x,\n",
    "              train_y,\n",
    "              val_x,\n",
    "              val_y,\n",
    "              n_epochs,\n",
    "              network_name,\n",
    "              training_fn=train_network,\n",
    "              validation_fn=validate_network,\n",
    "              training_batch_size=tra_batch_size,\n",
    "              validation_batch_size=val_batch_size,\n",
    "              plot_curves=True)"
   ]
  },
  {
   "cell_type": "code",
   "execution_count": null,
   "metadata": {
    "collapsed": true
   },
   "outputs": [],
   "source": [
    "# Test and submit to challenger\n",
    "\n",
    "# laod data (if not done before)\n",
    "train_x, train_y, val_x, val_y, tes_x, tes_filenames = load_data()\n",
    "\n",
    "# indicate the name of the network for this test\n",
    "network_name = 'network_task_2'\n",
    "\n",
    "# initialize the network used in this experiment (this may change)\n",
    "network = build_network(inputs)\n",
    "npz = np.load('./'+network_name+'.npz') # load stored parameters\n",
    "lasagne.layers.set_all_param_values(network, npz['params']) # set parameters\n",
    "\n",
    "# initialize tensor variable\n",
    "# (in case you run this cell after training and after restarting the notebook)\n",
    "inputs = T.tensor4('X')\n",
    "\n",
    "# compile evaluate_function()\n",
    "evaluate_network = evaluate_function(network=network, input_tensor=inputs)\n",
    "\n",
    "# classify the test set\n",
    "test_predictions = evaluate_network(tes_x)\n",
    "tes_y = np.argmax(test_predictions, axis=1)\n",
    "\n",
    "# write csv files with outputs\n",
    "ho = open('./results_{}.csv'.format(network_name), 'w')\n",
    "ho.write('filename, label\\n')\n",
    "for filename, label in zip(tes_filenames, tes_y):\n",
    "    ho.write('{}, {}\\n'.format(filename, label))\n",
    "ho.close()\n",
    "\n",
    "# submit to challenger\n",
    "challenger.submit_results({'username': '',\n",
    "                           'password': ''},\n",
    "                          'results_{}.csv'.format(network_name),\n",
    "                          {'notes': 'my first network'})"
   ]
  },
  {
   "cell_type": "markdown",
   "metadata": {},
   "source": [
    "#### Question\n",
    "What has changed after adding dropout? Is the after the same amount of epochs the same as without dropout? Have the learning curves changed? Why?"
   ]
  },
  {
   "cell_type": "markdown",
   "metadata": {},
   "source": [
    "*Your answer here.*"
   ]
  },
  {
   "cell_type": "markdown",
   "metadata": {},
   "source": [
    "## Task 4: Add batch normalization\n",
    "Add batch normalization to your network."
   ]
  },
  {
   "cell_type": "code",
   "execution_count": null,
   "metadata": {
    "collapsed": true
   },
   "outputs": [],
   "source": [
    "def build_network(input_tensor):\n",
    "    \"\"\"\n",
    "    Define the network layers.\n",
    "    \n",
    "    Args:\n",
    "        input_tensor (theano.tensor.ftensor4): Input tensor.\n",
    "    \n",
    "    Returns:\n",
    "        lasagne.layers.Layer: Output layer.\n",
    "    \"\"\"\n",
    "    \n",
    "    network = lasagne.layers.InputLayer(shape=(None, 3, 32, 32), input_var=input_tensor)\n",
    "    network = lasagne.layers.Conv2DLayer( network, num_filters=32, filter_size=(3, 3),  nonlinearity=lasagne.nonlinearities.LeakyRectify(0.33), W=lasagne.init.HeUniform()) \n",
    "    network = lasagne.layers.batch_norm(network)\n",
    "    network = lasagne.layers.MaxPool2DLayer(network, pool_size=(2, 2))\n",
    "    network = lasagne.layers.Conv2DLayer( network, num_filters=32, filter_size=(5, 5),  nonlinearity=lasagne.nonlinearities.LeakyRectify(0.33), W=lasagne.init.HeUniform()) \n",
    "    network = lasagne.layers.batch_norm(network)\n",
    "    network = lasagne.layers.MaxPool2DLayer(network, pool_size=(2, 2))\n",
    "    network = lasagne.layers.DropoutLayer(network, p=0.5)\n",
    "    network = lasagne.layers.DenseLayer( network, num_units=200, W=lasagne.init.HeUniform(),      nonlinearity=lasagne.nonlinearities.rectify)\n",
    "    network = lasagne.layers.DenseLayer( network, num_units=10,W=lasagne.init.GlorotUniform(),      nonlinearity=lasagne.nonlinearities.softmax)\n",
    "    return network"
   ]
  },
  {
   "cell_type": "code",
   "execution_count": null,
   "metadata": {
    "collapsed": true
   },
   "outputs": [],
   "source": [
    "# Train your network\n",
    "\n",
    "# Load data.\n",
    "#\n",
    "train_x, train_y, val_x, val_y, tes_x, tes_filenames = load_data()\n",
    "\n",
    "# Define parameters\n",
    "#\n",
    "tra_batch_size = 200\n",
    "val_batch_size = 1000 # irrelevant as we can still fit everything on the GPU\n",
    "n_epochs = 100\n",
    "learning_rate = 0\n",
    "\n",
    "network_name = 'network_task_2'\n",
    "\n",
    "# Define the symbolic input X and the symbolic target y.\n",
    "#\n",
    "inputs = T.tensor4('X')\n",
    "targets = T.ivector('y')\n",
    "\n",
    "# Build the network.\n",
    "#\n",
    "network = build_network(input_tensor=inputs) # THIS FUNCTION MAY CHANGE IN FUTURE EXPERIMENTS!\n",
    "\n",
    "# Define functions.\n",
    "#\n",
    "train_network = training_function(network=network, input_tensor=inputs, target_tensor=targets, learning_rate=learning_rate)\n",
    "validate_network = validate_function(network=network, input_tensor=inputs, target_tensor=targets)\n",
    "\n",
    "# Train the network.\n",
    "#\n",
    "train_convnet(network,\n",
    "              train_x,\n",
    "              train_y,\n",
    "              val_x,\n",
    "              val_y,\n",
    "              n_epochs,\n",
    "              network_name,\n",
    "              training_fn=train_network,\n",
    "              validation_fn=validate_network,\n",
    "              training_batch_size=tra_batch_size,\n",
    "              validation_batch_size=val_batch_size,\n",
    "              plot_curves=True)"
   ]
  },
  {
   "cell_type": "code",
   "execution_count": null,
   "metadata": {
    "collapsed": true
   },
   "outputs": [],
   "source": [
    "# Test and submit to challenger\n",
    "\n",
    "# laod data (if not done before)\n",
    "train_x, train_y, val_x, val_y, tes_x, tes_filenames = load_data()\n",
    "\n",
    "# indicate the name of the network for this test\n",
    "network_name = 'network_task_2'\n",
    "\n",
    "# initialize the network used in this experiment (this may change)\n",
    "network = build_network(inputs)\n",
    "npz = np.load('./'+network_name+'.npz') # load stored parameters\n",
    "lasagne.layers.set_all_param_values(network, npz['params']) # set parameters\n",
    "\n",
    "# initialize tensor variable\n",
    "# (in case you run this cell after training and after restarting the notebook)\n",
    "inputs = T.tensor4('X')\n",
    "\n",
    "# compile evaluate_function()\n",
    "evaluate_network = evaluate_function(network=network, input_tensor=inputs)\n",
    "\n",
    "# classify the test set\n",
    "test_predictions = evaluate_network(tes_x)\n",
    "tes_y = np.argmax(test_predictions, axis=1)\n",
    "\n",
    "# write csv files with outputs\n",
    "ho = open('./results_{}.csv'.format(network_name), 'w')\n",
    "ho.write('filename, label\\n')\n",
    "for filename, label in zip(tes_filenames, tes_y):\n",
    "    ho.write('{}, {}\\n'.format(filename, label))\n",
    "ho.close()\n",
    "\n",
    "# submit to challenger\n",
    "challenger.submit_results({'username': '',\n",
    "                           'password': ''},\n",
    "                          'results_{}.csv'.format(network_name),\n",
    "                          {'notes': 'my first network'})"
   ]
  },
  {
   "cell_type": "markdown",
   "metadata": {},
   "source": [
    "## Task 5: Try different initialization strategies\n",
    "Try different Weight initialization strategies in your network."
   ]
  },
  {
   "cell_type": "code",
   "execution_count": 12,
   "metadata": {
    "collapsed": true
   },
   "outputs": [],
   "source": [
    "# I'm doing this already. I'm using a mixture of HeUniform and GlorotUniform\n",
    "# If I don't use that I can see that my network starts at a much larger loss and hence takes longer to converge\n",
    "\n",
    "def build_network(input_tensor, W = lasagne.init.HeUniform() ):\n",
    "    \"\"\"\n",
    "    Define the network layers.\n",
    "    \n",
    "    Args:\n",
    "        input_tensor (theano.tensor.ftensor4): Input tensor.\n",
    "    \n",
    "    Returns:\n",
    "        lasagne.layers.Layer: Output layer.\n",
    "    \"\"\"\n",
    "    \n",
    "    network = lasagne.layers.InputLayer(shape=(None, 3, 32, 32), input_var=input_tensor)\n",
    "    network = lasagne.layers.Conv2DLayer( network, num_filters=32, filter_size=(3, 3),  nonlinearity=lasagne.nonlinearities.LeakyRectify(0.33), W=W) \n",
    "    network = lasagne.layers.batch_norm(network)\n",
    "    network = lasagne.layers.MaxPool2DLayer(network, pool_size=(2, 2))\n",
    "    network = lasagne.layers.Conv2DLayer( network, num_filters=32, filter_size=(5, 5),  nonlinearity=lasagne.nonlinearities.LeakyRectify(0.33), W=W) \n",
    "    network = lasagne.layers.batch_norm(network)\n",
    "    network = lasagne.layers.MaxPool2DLayer(network, pool_size=(2, 2))\n",
    "    network = lasagne.layers.DropoutLayer(network, p=0.5)\n",
    "    network = lasagne.layers.DenseLayer( network, num_units=200, W=W,      nonlinearity=lasagne.nonlinearities.rectify)\n",
    "    network = lasagne.layers.DenseLayer( network, num_units=10,W=W,      nonlinearity=lasagne.nonlinearities.softmax)\n",
    "    return network"
   ]
  },
  {
   "cell_type": "code",
   "execution_count": 13,
   "metadata": {
    "collapsed": false
   },
   "outputs": [],
   "source": [
    "import lasagne"
   ]
  },
  {
   "cell_type": "code",
   "execution_count": null,
   "metadata": {
    "collapsed": false
   },
   "outputs": [],
   "source": [
    "# Train your network\n",
    "\n",
    "# Load data.\n",
    "#\n",
    "train_x, train_y, val_x, val_y, tes_x, tes_filenames = load_data()\n",
    "\n",
    "# Define parameters\n",
    "#\n",
    "tra_batch_size = 200\n",
    "val_batch_size = 1000 # irrelevant as we can still fit everything on the GPU\n",
    "n_epochs = 100\n",
    "learning_rate = 0\n",
    "\n",
    "network_name = 'network_task_2'\n",
    "\n",
    "# Define the symbolic input X and the symbolic target y.\n",
    "#\n",
    "inputs = T.tensor4('X')\n",
    "targets = T.ivector('y')\n",
    "\n",
    "# Build the network.\n",
    "#\n",
    "W = lasagne.init.HeUniform()\n",
    "W = lasagne.init.GlorotUniform()\n",
    "W = lasagne.init.Constant(0) # here the network obviously doesnt learn\n",
    "W = lasagne.init.HeNormal()\n",
    "\n",
    "\n",
    "network = build_network(input_tensor=inputs, W=W) # THIS FUNCTION MAY CHANGE IN FUTURE EXPERIMENTS!\n",
    "\n",
    "# Define functions.\n",
    "#\n",
    "train_network = training_function(network=network, input_tensor=inputs, target_tensor=targets, learning_rate=learning_rate)\n",
    "validate_network = validate_function(network=network, input_tensor=inputs, target_tensor=targets)\n",
    "\n",
    "# Train the network.\n",
    "#\n",
    "train_convnet(network,\n",
    "              train_x,\n",
    "              train_y,\n",
    "              val_x,\n",
    "              val_y,\n",
    "              n_epochs,\n",
    "              network_name,\n",
    "              training_fn=train_network,\n",
    "              validation_fn=validate_network,\n",
    "              training_batch_size=tra_batch_size,\n",
    "              validation_batch_size=val_batch_size,\n",
    "              plot_curves=True)"
   ]
  },
  {
   "cell_type": "code",
   "execution_count": null,
   "metadata": {
    "collapsed": true
   },
   "outputs": [],
   "source": [
    "# Test and submit to challenger\n",
    "\n",
    "# laod data (if not done before)\n",
    "train_x, train_y, val_x, val_y, tes_x, tes_filenames = load_data()\n",
    "\n",
    "# indicate the name of the network for this test\n",
    "network_name = 'network_task_2'\n",
    "\n",
    "\n",
    "##### Choose the initializiation function here:\n",
    "W = lasagne.ini\n",
    "network = build_network(inputs, )\n",
    "npz = np.load('./'+network_name+'.npz') # load stored parameters\n",
    "lasagne.layers.set_all_param_values(network, npz['params']) # set parameters\n",
    "\n",
    "# initialize tensor variable\n",
    "# (in case you run this cell after training and after restarting the notebook)\n",
    "inputs = T.tensor4('X')\n",
    "\n",
    "# compile evaluate_function()\n",
    "\n",
    "\n",
    "evaluate_network = evaluate_function(network=network, input_tensor=inputs)\n",
    "\n",
    "# classify the test set\n",
    "test_predictions = evaluate_network(tes_x)\n",
    "tes_y = np.argmax(test_predictions, axis=1)\n",
    "\n",
    "# write csv files with outputs\n",
    "ho = open('./results_{}.csv'.format(network_name), 'w')\n",
    "ho.write('filename, label\\n')\n",
    "for filename, label in zip(tes_filenames, tes_y):\n",
    "    ho.write('{}, {}\\n'.format(filename, label))\n",
    "ho.close()\n",
    "\n",
    "# submit to challenger\n",
    "challenger.submit_results({'username': '',\n",
    "                           'password': ''},\n",
    "                          'results_{}.csv'.format(network_name),\n",
    "                          {'notes': 'my first network'})"
   ]
  },
  {
   "cell_type": "markdown",
   "metadata": {},
   "source": [
    "## Task 6: Try different nonlinearities\n",
    "Try different nonlinearities in your network."
   ]
  },
  {
   "cell_type": "code",
   "execution_count": 30,
   "metadata": {
    "collapsed": false
   },
   "outputs": [],
   "source": [
    "def build_network(input_tensor, W = lasagne.init.HeUniform(),  nonlinearity=lasagne.nonlinearities.rectify ):\n",
    "    \"\"\"\n",
    "    Define the network layers.\n",
    "    \n",
    "    Args:\n",
    "        input_tensor (theano.tensor.ftensor4): Input tensor.\n",
    "    \n",
    "    Returns:\n",
    "        lasagne.layers.Layer: Output layer.\n",
    "    \"\"\"\n",
    "    \n",
    "    network = lasagne.layers.InputLayer(shape=(None, 3, 32, 32), input_var=input_tensor)\n",
    "    network = lasagne.layers.Conv2DLayer( network, num_filters=32, filter_size=(3, 3),  nonlinearity=lasagne.nonlinearities.LeakyRectify(0.33), W=W) \n",
    "    network = lasagne.layers.batch_norm(network)\n",
    "    network = lasagne.layers.MaxPool2DLayer(network, pool_size=(2, 2))\n",
    "    network = lasagne.layers.Conv2DLayer( network, num_filters=32, filter_size=(5, 5),  nonlinearity=lasagne.nonlinearities.LeakyRectify(0.33), W=W) \n",
    "    network = lasagne.layers.batch_norm(network)\n",
    "    network = lasagne.layers.MaxPool2DLayer(network, pool_size=(2, 2))\n",
    "    network = lasagne.layers.DropoutLayer(network, p=0.5)\n",
    "    network = lasagne.layers.DenseLayer( network, num_units=200, W=W,      nonlinearity=lasagne.nonlinearities.rectify)\n",
    "    network = lasagne.layers.DenseLayer( network, num_units=10,W=W,      nonlinearity=lasagne.nonlinearities.softmax)\n",
    "    return network"
   ]
  },
  {
   "cell_type": "code",
   "execution_count": null,
   "metadata": {
    "collapsed": false
   },
   "outputs": [],
   "source": [
    "# Train your network\n",
    "\n",
    "# Load data.\n",
    "#\n",
    "train_x, train_y, val_x, val_y, tes_x, tes_filenames = load_data()\n",
    "\n",
    "# Define parameters\n",
    "#\n",
    "tra_batch_size = 200\n",
    "val_batch_size = 1000 # irrelevant as we can still fit everything on the GPU\n",
    "n_epochs = 100\n",
    "learning_rate = 0\n",
    "\n",
    "network_name = 'network_task_2'\n",
    "\n",
    "# Define the symbolic input X and the symbolic target y.\n",
    "#\n",
    "inputs = T.tensor4('X')\n",
    "targets = T.ivector('y')\n",
    "\n",
    "# Build the network.\n",
    "# Choose the non linearity\n",
    "nl = lasagne.nonlinearities.sigmoid\n",
    "nl = lasagne.nonlinearities.rectify\n",
    "nl = lasagne.nonlinearities.tanh\n",
    "\n",
    "network = build_network(input_tensor=inputs, nonlinearity = nl) # THIS FUNCTION MAY CHANGE IN FUTURE EXPERIMENTS!\n",
    "\n",
    "# Define functions.\n",
    "#\n",
    "train_network = training_function(network=network, input_tensor=inputs, target_tensor=targets, learning_rate=learning_rate)\n",
    "validate_network = validate_function(network=network, input_tensor=inputs, target_tensor=targets)\n",
    "\n",
    "# Train the network.\n",
    "#\n",
    "train_convnet(network,\n",
    "              train_x,\n",
    "              train_y,\n",
    "              val_x,\n",
    "              val_y,\n",
    "              n_epochs,\n",
    "              network_name,\n",
    "              training_fn=train_network,\n",
    "              validation_fn=validate_network,\n",
    "              training_batch_size=tra_batch_size,\n",
    "              validation_batch_size=val_batch_size,\n",
    "              plot_curves=True)"
   ]
  },
  {
   "cell_type": "code",
   "execution_count": null,
   "metadata": {
    "collapsed": true
   },
   "outputs": [],
   "source": [
    "# Test and submit to challenger\n",
    "\n",
    "# laod data (if not done before)\n",
    "train_x, train_y, val_x, val_y, tes_x, tes_filenames = load_data()\n",
    "\n",
    "# indicate the name of the network for this test\n",
    "network_name = 'network_task_2'\n",
    "\n",
    "\n",
    "##### Choose the initializiation function here:\n",
    "W = lasagne.ini\n",
    "network = build_network(inputs, )\n",
    "npz = np.load('./'+network_name+'.npz') # load stored parameters\n",
    "lasagne.layers.set_all_param_values(network, npz['params']) # set parameters\n",
    "\n",
    "# initialize tensor variable\n",
    "# (in case you run this cell after training and after restarting the notebook)\n",
    "inputs = T.tensor4('X')\n",
    "\n",
    "# compile evaluate_function()\n",
    "\n",
    "\n",
    "evaluate_network = evaluate_function(network=network, input_tensor=inputs)\n",
    "\n",
    "# classify the test set\n",
    "test_predictions = evaluate_network(tes_x)\n",
    "tes_y = np.argmax(test_predictions, axis=1)\n",
    "\n",
    "# write csv files with outputs\n",
    "ho = open('./results_{}.csv'.format(network_name), 'w')\n",
    "ho.write('filename, label\\n')\n",
    "for filename, label in zip(tes_filenames, tes_y):\n",
    "    ho.write('{}, {}\\n'.format(filename, label))\n",
    "ho.close()\n",
    "\n",
    "# submit to challenger\n",
    "challenger.submit_results({'username': '',\n",
    "                           'password': ''},\n",
    "                          'results_{}.csv'.format(network_name),\n",
    "                          {'notes': 'my first network'})"
   ]
  },
  {
   "cell_type": "markdown",
   "metadata": {},
   "source": [
    "#### Question\n",
    "Calculating the sigmoid function is computationally expensive. What is the other main weakness of the function?"
   ]
  },
  {
   "cell_type": "markdown",
   "metadata": {},
   "source": [
    "The vanishing gradient!"
   ]
  },
  {
   "cell_type": "markdown",
   "metadata": {},
   "source": [
    "## Task 7: L2 normalization\n",
    "Add L2 regularization to your loss calculation."
   ]
  },
  {
   "cell_type": "code",
   "execution_count": 33,
   "metadata": {
    "collapsed": false
   },
   "outputs": [],
   "source": [
    "######\n",
    "# I am only regularizing the DenseLayer. This is often found according to my google search\n",
    "\n",
    "from lasagne.regularization import regularize_layer_params_weighted, l2\n",
    "def training_function(network, input_tensor, target_tensor, learning_rate, use_l2_regularization=True, l2_lambda=0.0001):\n",
    "    \"\"\"\n",
    "    Training function.\n",
    "    \n",
    "    Args:\n",
    "        network (lasagne.layers.Layer): Output layer.\n",
    "        input_tensor (theano.tensor.ftensor4): Input tensor.\n",
    "        target_tensor (theano.tensor.ivector): Target tensor.\n",
    "        \n",
    "    Returns:\n",
    "        function: Network update function. It accepts [input_tensor, target_tensor] tensors as input and outputs\n",
    "           [loss, l2_loss, accuracy] values.\n",
    "    \"\"\"\n",
    "    \n",
    "    # Get the network output and calculate metrics.\n",
    "    #\n",
    "    network_output = lasagne.layers.get_output(network)\n",
    "    layers = {network.input_layer.input_layer: l2_lambda, }\n",
    "    l2_penalty = regularize_layer_params_weighted(layers, l2)\n",
    "    loss = lasagne.objectives.categorical_crossentropy(network_output, target_tensor).mean() + l2_penalty\n",
    "    accuracy = T.mean(T.eq(T.argmax(network_output, axis=1), target_tensor), dtype=theano.config.floatX)\n",
    "\n",
    "    # Get the network parameters and the update function.\n",
    "    #\n",
    "    network_params  = lasagne.layers.get_all_params(network, trainable=True)\n",
    "    weight_updates  = lasagne.updates.adam(loss, network_params)\n",
    "\n",
    "    # Construct the training function.\n",
    "    #\n",
    "    return theano.function([input_tensor, target_tensor], [loss, accuracy], updates=weight_updates)\n",
    "\n",
    "\n",
    "def build_network(input_tensor, W = lasagne.init.HeUniform(),  nonlinearity=lasagne.nonlinearities.rectify ):\n",
    "    \"\"\"\n",
    "    Define the network layers.\n",
    "    \n",
    "    Args:\n",
    "        input_tensor (theano.tensor.ftensor4): Input tensor.\n",
    "    \n",
    "    Returns:\n",
    "        lasagne.layers.Layer: Output layer.\n",
    "    \"\"\"\n",
    "    \n",
    "    network = lasagne.layers.InputLayer(shape=(None, 3, 32, 32), input_var=input_tensor)\n",
    "    network = lasagne.layers.Conv2DLayer( network, num_filters=32, filter_size=(3, 3),  nonlinearity=lasagne.nonlinearities.LeakyRectify(0.33), W=W) \n",
    "    network = lasagne.layers.batch_norm(network)\n",
    "    network = lasagne.layers.MaxPool2DLayer(network, pool_size=(2, 2))\n",
    "    network = lasagne.layers.Conv2DLayer( network, num_filters=32, filter_size=(5, 5),  nonlinearity=lasagne.nonlinearities.LeakyRectify(0.33), W=W) \n",
    "    network = lasagne.layers.batch_norm(network)\n",
    "    network = lasagne.layers.MaxPool2DLayer(network, pool_size=(2, 2))\n",
    "    network = lasagne.layers.DropoutLayer(network, p=0.5)\n",
    "    network = lasagne.layers.DenseLayer( network, num_units=200, W=W,      nonlinearity=lasagne.nonlinearities.rectify)\n",
    "    network = lasagne.layers.DenseLayer( network, num_units=10,W=W,      nonlinearity=lasagne.nonlinearities.softmax)\n",
    "    return network"
   ]
  },
  {
   "cell_type": "code",
   "execution_count": null,
   "metadata": {
    "collapsed": false
   },
   "outputs": [],
   "source": [
    "# Train your network\n",
    "\n",
    "# Load data.\n",
    "#\n",
    "train_x, train_y, val_x, val_y, tes_x, tes_filenames = load_data()\n",
    "\n",
    "# Define parameters\n",
    "#\n",
    "tra_batch_size = 200\n",
    "val_batch_size = 1000 # irrelevant as we can still fit everything on the GPU\n",
    "n_epochs = 100\n",
    "learning_rate = 0\n",
    "\n",
    "network_name = 'network_task_2'\n",
    "\n",
    "# Define the symbolic input X and the symbolic target y.\n",
    "#\n",
    "inputs = T.tensor4('X')\n",
    "targets = T.ivector('y')\n",
    "\n",
    "network = build_network(input_tensor=inputs) # THIS FUNCTION MAY CHANGE IN FUTURE EXPERIMENTS!\n",
    "\n",
    "# Define functions.\n",
    "#\n",
    "train_network = training_function(network=network, input_tensor=inputs, target_tensor=targets, learning_rate=learning_rate)\n",
    "validate_network = validate_function(network=network, input_tensor=inputs, target_tensor=targets)\n",
    "\n",
    "# Train the network.\n",
    "#\n",
    "train_convnet(network,\n",
    "              train_x,\n",
    "              train_y,\n",
    "              val_x,\n",
    "              val_y,\n",
    "              n_epochs,\n",
    "              network_name,\n",
    "              training_fn=train_network,\n",
    "              validation_fn=validate_network,\n",
    "              training_batch_size=tra_batch_size,\n",
    "              validation_batch_size=val_batch_size,\n",
    "              plot_curves=True)"
   ]
  },
  {
   "cell_type": "code",
   "execution_count": null,
   "metadata": {
    "collapsed": true
   },
   "outputs": [],
   "source": [
    "# Test and submit to challenger\n",
    "\n",
    "# laod data (if not done before)\n",
    "train_x, train_y, val_x, val_y, tes_x, tes_filenames = load_data()\n",
    "\n",
    "# indicate the name of the network for this test\n",
    "network_name = 'network_task_2'\n",
    "\n",
    "\n",
    "##### Choose the initializiation function here:\n",
    "W = lasagne.ini\n",
    "network = build_network(inputs, )\n",
    "npz = np.load('./'+network_name+'.npz') # load stored parameters\n",
    "lasagne.layers.set_all_param_values(network, npz['params']) # set parameters\n",
    "\n",
    "# initialize tensor variable\n",
    "# (in case you run this cell after training and after restarting the notebook)\n",
    "inputs = T.tensor4('X')\n",
    "\n",
    "# compile evaluate_function()\n",
    "\n",
    "\n",
    "evaluate_network = evaluate_function(network=network, input_tensor=inputs)\n",
    "\n",
    "# classify the test set\n",
    "test_predictions = evaluate_network(tes_x)\n",
    "tes_y = np.argmax(test_predictions, axis=1)\n",
    "\n",
    "# write csv files with outputs\n",
    "ho = open('./results_{}.csv'.format(network_name), 'w')\n",
    "ho.write('filename, label\\n')\n",
    "for filename, label in zip(tes_filenames, tes_y):\n",
    "    ho.write('{}, {}\\n'.format(filename, label))\n",
    "ho.close()\n",
    "\n",
    "# submit to challenger\n",
    "challenger.submit_results({'username': '',\n",
    "                           'password': ''},\n",
    "                          'results_{}.csv'.format(network_name),\n",
    "                          {'notes': 'my first network'})"
   ]
  },
  {
   "cell_type": "markdown",
   "metadata": {},
   "source": [
    "#### Question\n",
    "Is it necessary to monitor the L2 loss during training? Why?"
   ]
  },
  {
   "cell_type": "markdown",
   "metadata": {},
   "source": [
    "I could not find a lot of information about this topic. I have not seen it very often to be explicitly monitored.\n",
    "I guess monitoring it would be good to see how much of an overfit we are 'preventing', or to track overfit in general."
   ]
  },
  {
   "cell_type": "markdown",
   "metadata": {},
   "source": [
    "## Task 8: Add data augmentation\n",
    "Add data augmentation to your batch assemler code. Try at least 3 different augmentation methods."
   ]
  },
  {
   "cell_type": "code",
   "execution_count": null,
   "metadata": {
    "collapsed": true
   },
   "outputs": [],
   "source": [
    "#############\n",
    "# I added the following augmentation methods\n",
    "# 1. lr-flip of the image\n",
    "# 2. Gaussian noise on the input images (online with layer 1). Alternative would be salt&pepper noise or other noise variants\n",
    "# 3. We could do more like random crops or color changes (using PCA components)\n",
    "#    But I spent already too long on this assignment and have other things to do :(\n",
    "#################\n",
    "\n",
    "def load_data(val_id=-1):\n",
    "    batches = list()\n",
    "    for i in np.arange(1,6):\n",
    "        batches.append(pickle.load(open(os.path.join(dataset_dir, 'data_batch_' + str(i)), 'rb')))\n",
    "    idx = np.arange(0,5)\n",
    "    if val_id == -1: val_id = np.random.choice(idx,1)[0]\n",
    "    print ('taking fold {}'.format(val_id))\n",
    "    idx = np.delete(idx, val_id)\n",
    "    \n",
    "    train_x = list()\n",
    "    train_y = list()\n",
    "    for i in idx:\n",
    "        train_x.append((batches[i]['data'].reshape(-1, 3, 32, 32) / 255.).astype(np.float32))\n",
    "        train_x.append((batches[i]['data'].reshape(-1, 3, 32, 32) / 255.).astype(np.float32)[:,:,:,::-1]) # LR flip\n",
    "        \n",
    "        train_y.append(label_to_one_hot(batches[i]['labels']))\n",
    "        train_y.append(label_to_one_hot(batches[i]['labels']))\n",
    "    # make training set\n",
    "    train_x = np.vstack(train_x)\n",
    "    train_y = np.vstack(train_y).flatten()\n",
    "\n",
    "    # make validation set\n",
    "    val_x = (batches[val_id]['data'].reshape(-1, 3, 32, 32) / 255.).astype(np.float32)\n",
    "    val_y = label_to_one_hot(batches[val_id]['labels'])\n",
    "    val_y = np.array(val_y)\n",
    "    # load test set\n",
    "    test_batch = pickle.load(open(os.path.join(dataset_dir, 'test_batch'), 'rb'))\n",
    "    tes_x = (test_batch['data'].reshape(-1, 3, 32, 32) / 255.).astype(np.float32)\n",
    "    tes_filenames = test_batch['filenames']\n",
    "\n",
    "    # load labels CIFAR10\n",
    "    f = open(os.path.join(dataset_dir, 'batches.meta'), 'rb')\n",
    "    cifar_dict = pickle.load(f)\n",
    "    label_to_names = {k:v for k, v in zip(range(10), cifar_dict['label_names'])}\n",
    "    f.close()\n",
    "\n",
    "    print '-----------------------------------------------------'\n",
    "    print label_to_names\n",
    "    print '-----------------------------------------------------'\n",
    "    print '> shape training set tensor: {}'.format(train_x.shape)\n",
    "    print '> length training labels: {}'.format(len(train_y))\n",
    "    print '-----------------------------------------------------'\n",
    "    print '> shape validation set tensor: {}'.format(val_x.shape)\n",
    "    print '> length training labels: {}'.format(len(val_y))\n",
    "    print '-----------------------------------------------------'\n",
    "    print '> shape test set tensor: {}'.format(tes_x.shape)\n",
    "    \n",
    "    return train_x, train_y, val_x, val_y, tes_x, tes_filenames"
   ]
  },
  {
   "cell_type": "code",
   "execution_count": null,
   "metadata": {
    "collapsed": true
   },
   "outputs": [],
   "source": [
    "\n",
    "\n",
    "def build_network(input_tensor, W = lasagne.init.HeUniform(),  nonlinearity=lasagne.nonlinearities.rectify ):\n",
    "    \"\"\"\n",
    "    Define the network layers.\n",
    "    \n",
    "    Args:\n",
    "        input_tensor (theano.tensor.ftensor4): Input tensor.\n",
    "    \n",
    "    Returns:\n",
    "        lasagne.layers.Layer: Output layer.\n",
    "    \"\"\"\n",
    "    \n",
    "    network = lasagne.layers.InputLayer(shape=(None, 3, 32, 32), input_var=input_tensor)\n",
    "    network = lasagne.layers.GaussianNoiseLayer(network, sigma=0.05)\n",
    "    network = lasagne.layers.Conv2DLayer( network, num_filters=32, filter_size=(3, 3),  nonlinearity=lasagne.nonlinearities.LeakyRectify(0.33), W=W) \n",
    "    network = lasagne.layers.batch_norm(network)\n",
    "    network = lasagne.layers.MaxPool2DLayer(network, pool_size=(2, 2))\n",
    "    network = lasagne.layers.Conv2DLayer( network, num_filters=32, filter_size=(5, 5),  nonlinearity=lasagne.nonlinearities.LeakyRectify(0.33), W=W) \n",
    "    network = lasagne.layers.batch_norm(network)\n",
    "    network = lasagne.layers.MaxPool2DLayer(network, pool_size=(2, 2))\n",
    "    network = lasagne.layers.DropoutLayer(network, p=0.5)\n",
    "    network = lasagne.layers.DenseLayer( network, num_units=200, W=W,      nonlinearity=lasagne.nonlinearities.rectify)\n",
    "    network = lasagne.layers.DenseLayer( network, num_units=10,W=W,      nonlinearity=lasagne.nonlinearities.softmax)\n",
    "    return network"
   ]
  },
  {
   "cell_type": "code",
   "execution_count": null,
   "metadata": {
    "collapsed": true
   },
   "outputs": [],
   "source": [
    "# Train your network\n",
    "\n",
    "# Load data.\n",
    "#\n",
    "train_x, train_y, val_x, val_y, tes_x, tes_filenames = load_data()\n",
    "\n",
    "# Define parameters\n",
    "#\n",
    "tra_batch_size = 200\n",
    "val_batch_size = 1000 # irrelevant as we can still fit everything on the GPU\n",
    "n_epochs = 100\n",
    "learning_rate = 0\n",
    "\n",
    "network_name = 'network_task_2'\n",
    "\n",
    "# Define the symbolic input X and the symbolic target y.\n",
    "#\n",
    "inputs = T.tensor4('X')\n",
    "targets = T.ivector('y')\n",
    "\n",
    "# Build the network\n",
    "network = build_network(input_tensor=inputs) # THIS FUNCTION MAY CHANGE IN FUTURE EXPERIMENTS!\n",
    "\n",
    "# Define functions.\n",
    "#\n",
    "train_network = training_function(network=network, input_tensor=inputs, target_tensor=targets, learning_rate=learning_rate)\n",
    "validate_network = validate_function(network=network, input_tensor=inputs, target_tensor=targets)\n",
    "\n",
    "# Train the network.\n",
    "#\n",
    "train_convnet(network,\n",
    "              train_x,\n",
    "              train_y,\n",
    "              val_x,\n",
    "              val_y,\n",
    "              n_epochs,\n",
    "              network_name,\n",
    "              training_fn=train_network,\n",
    "              validation_fn=validate_network,\n",
    "              training_batch_size=tra_batch_size,\n",
    "              validation_batch_size=val_batch_size,\n",
    "              plot_curves=True)"
   ]
  },
  {
   "cell_type": "code",
   "execution_count": null,
   "metadata": {
    "collapsed": true
   },
   "outputs": [],
   "source": [
    "# Test and submit to challenger\n",
    "\n",
    "# Test and submit to challenger\n",
    "\n",
    "# laod data (if not done before)\n",
    "train_x, train_y, val_x, val_y, tes_x, tes_filenames = load_data()\n",
    "\n",
    "# indicate the name of the network for this test\n",
    "network_name = 'network_task_2'\n",
    "\n",
    "\n",
    "##### Choose the initializiation function here:\n",
    "W = lasagne.ini\n",
    "network = build_network(inputs, )\n",
    "npz = np.load('./'+network_name+'.npz') # load stored parameters\n",
    "lasagne.layers.set_all_param_values(network, npz['params']) # set parameters\n",
    "\n",
    "# initialize tensor variable\n",
    "# (in case you run this cell after training and after restarting the notebook)\n",
    "inputs = T.tensor4('X')\n",
    "\n",
    "# compile evaluate_function()\n",
    "\n",
    "\n",
    "evaluate_network = evaluate_function(network=network, input_tensor=inputs)\n",
    "\n",
    "# classify the test set\n",
    "test_predictions = evaluate_network(tes_x)\n",
    "tes_y = np.argmax(test_predictions, axis=1)\n",
    "\n",
    "# write csv files with outputs\n",
    "ho = open('./results_{}.csv'.format(network_name), 'w')\n",
    "ho.write('filename, label\\n')\n",
    "for filename, label in zip(tes_filenames, tes_y):\n",
    "    ho.write('{}, {}\\n'.format(filename, label))\n",
    "ho.close()\n",
    "\n",
    "# submit to challenger\n",
    "challenger.submit_results({'username': '',\n",
    "                           'password': ''},\n",
    "                          'results_{}.csv'.format(network_name),\n",
    "                          {'notes': 'my first network'})"
   ]
  },
  {
   "cell_type": "markdown",
   "metadata": {},
   "source": [
    "#### Question\n",
    "Should the upside-down flipping be used as augmentation? Why?"
   ]
  },
  {
   "cell_type": "markdown",
   "metadata": {},
   "source": [
    "Not for natural images. For medical images it is usually fine"
   ]
  },
  {
   "cell_type": "markdown",
   "metadata": {},
   "source": [
    "## Task 9 (optional): Try different architectures"
   ]
  },
  {
   "cell_type": "code",
   "execution_count": null,
   "metadata": {
    "collapsed": true
   },
   "outputs": [],
   "source": [
    "Please see the other code that I attached to the email."
   ]
  },
  {
   "cell_type": "code",
   "execution_count": null,
   "metadata": {
    "collapsed": true
   },
   "outputs": [],
   "source": [
    "# Train your network\n",
    "\n",
    "# >>> add your code here <<<"
   ]
  },
  {
   "cell_type": "code",
   "execution_count": null,
   "metadata": {
    "collapsed": true
   },
   "outputs": [],
   "source": [
    "# Test and submit to challenger\n",
    "\n",
    "# >>> add your code here <<<"
   ]
  },
  {
   "cell_type": "markdown",
   "metadata": {},
   "source": [
    "## Task 10 (optional): Tools to monitor training procedure"
   ]
  },
  {
   "cell_type": "code",
   "execution_count": null,
   "metadata": {
    "collapsed": true
   },
   "outputs": [],
   "source": [
    "# Build your network\n",
    "\n",
    "# >>> add your code here <<<"
   ]
  },
  {
   "cell_type": "code",
   "execution_count": null,
   "metadata": {
    "collapsed": true
   },
   "outputs": [],
   "source": [
    "# Adapt the training function to include data augmentation\n",
    "\n",
    "## >>> add your code here <<<"
   ]
  },
  {
   "cell_type": "code",
   "execution_count": null,
   "metadata": {
    "collapsed": true
   },
   "outputs": [],
   "source": [
    "# Train your network\n",
    "\n",
    "# >>> add your code here <<<"
   ]
  },
  {
   "cell_type": "code",
   "execution_count": null,
   "metadata": {
    "collapsed": true
   },
   "outputs": [],
   "source": [
    "# Test and submit to challenger\n",
    "\n",
    "# >>> add your code here <<<"
   ]
  },
  {
   "cell_type": "markdown",
   "metadata": {},
   "source": [
    "# Send your notebook\n",
    "Send your notebook to **Peter.Bandi@radboudumc.nl** or **Freerk.Venhuizen@radboudumc.nl ** address by Monday, not later than **13-03-2017 23:59:59 CET.**"
   ]
  }
 ],
 "metadata": {
  "kernelspec": {
   "display_name": "Python 2",
   "language": "python",
   "name": "python2"
  },
  "language_info": {
   "codemirror_mode": {
    "name": "ipython",
    "version": 2
   },
   "file_extension": ".py",
   "mimetype": "text/x-python",
   "name": "python",
   "nbconvert_exporter": "python",
   "pygments_lexer": "ipython2",
   "version": "2.7.13"
  }
 },
 "nbformat": 4,
 "nbformat_minor": 0
}
